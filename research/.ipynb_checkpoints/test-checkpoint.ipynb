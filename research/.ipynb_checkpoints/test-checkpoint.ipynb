{
 "cells": [
  {
   "cell_type": "code",
   "execution_count": 2,
   "metadata": {},
   "outputs": [],
   "source": [
    "from google.cloud import speech_v1p1beta1 as speech\n",
    "from google.cloud import storage\n",
    "from pydub import AudioSegment\n",
    "\n",
    "import json\n",
    "client = speech.SpeechClient()"
   ]
  },
  {
   "cell_type": "code",
   "execution_count": 3,
   "metadata": {},
   "outputs": [],
   "source": [
    "gcs_uri = \"gs://ami_corpus/amicorpus/ES2002a/audio/ES2002a.Mix-Headset.wav\""
   ]
  },
  {
   "cell_type": "code",
   "execution_count": 3,
   "metadata": {},
   "outputs": [],
   "source": [
    "audio = speech.RecognitionAudio(uri=gcs_uri)\n",
    "config = speech.RecognitionConfig(\n",
    "    encoding=speech.RecognitionConfig.AudioEncoding.LINEAR16,\n",
    "    sample_rate_hertz=16000,\n",
    "    language_code=\"en-US\",\n",
    "    enable_speaker_diarization=True,\n",
    "    diarization_speaker_count=4,\n",
    ")"
   ]
  },
  {
   "cell_type": "code",
   "execution_count": 4,
   "metadata": {},
   "outputs": [
    {
     "name": "stdout",
     "output_type": "stream",
     "text": [
      "Waiting for operation to complete...\n"
     ]
    }
   ],
   "source": [
    "print(\"Waiting for operation to complete...\")\n",
    "response = client.long_running_recognize(config=config, audio=audio)"
   ]
  },
  {
   "cell_type": "code",
   "execution_count": 6,
   "metadata": {},
   "outputs": [],
   "source": [
    "result = response.result().results"
   ]
  },
  {
   "cell_type": "code",
   "execution_count": null,
   "metadata": {},
   "outputs": [],
   "source": [
    "result[-1]"
   ]
  },
  {
   "cell_type": "code",
   "execution_count": 15,
   "metadata": {},
   "outputs": [
    {
     "ename": "NameError",
     "evalue": "name 'result' is not defined",
     "output_type": "error",
     "traceback": [
      "\u001b[0;31m---------------------------------------------------------------------------\u001b[0m",
      "\u001b[0;31mNameError\u001b[0m                                 Traceback (most recent call last)",
      "\u001b[0;32m<ipython-input-15-baf6889f073e>\u001b[0m in \u001b[0;36m<module>\u001b[0;34m\u001b[0m\n\u001b[0;32m----> 1\u001b[0;31m \u001b[0mwords_info\u001b[0m \u001b[0;34m=\u001b[0m \u001b[0mresult\u001b[0m\u001b[0;34m[\u001b[0m\u001b[0;34m-\u001b[0m\u001b[0;36m1\u001b[0m\u001b[0;34m]\u001b[0m\u001b[0;34m.\u001b[0m\u001b[0malternatives\u001b[0m\u001b[0;34m[\u001b[0m\u001b[0;36m0\u001b[0m\u001b[0;34m]\u001b[0m\u001b[0;34m.\u001b[0m\u001b[0mwords\u001b[0m\u001b[0;34m\u001b[0m\u001b[0;34m\u001b[0m\u001b[0m\n\u001b[0m\u001b[1;32m      2\u001b[0m \u001b[0mold_speaker\u001b[0m \u001b[0;34m=\u001b[0m \u001b[0;34m\"\"\u001b[0m\u001b[0;34m\u001b[0m\u001b[0;34m\u001b[0m\u001b[0m\n\u001b[1;32m      3\u001b[0m \u001b[0mold_end\u001b[0m \u001b[0;34m=\u001b[0m \u001b[0;36m0\u001b[0m\u001b[0;34m\u001b[0m\u001b[0;34m\u001b[0m\u001b[0m\n\u001b[1;32m      4\u001b[0m \u001b[0mstart\u001b[0m \u001b[0;34m=\u001b[0m \u001b[0;36m0\u001b[0m\u001b[0;34m\u001b[0m\u001b[0;34m\u001b[0m\u001b[0m\n\u001b[1;32m      5\u001b[0m \u001b[0manalysis_data\u001b[0m \u001b[0;34m=\u001b[0m \u001b[0;34m[\u001b[0m\u001b[0;34m]\u001b[0m\u001b[0;34m\u001b[0m\u001b[0;34m\u001b[0m\u001b[0m\n",
      "\u001b[0;31mNameError\u001b[0m: name 'result' is not defined"
     ]
    }
   ],
   "source": [
    "words_info = result[-1].alternatives[0].words\n",
    "old_speaker = \"\"\n",
    "old_end = 0\n",
    "start = 0\n",
    "analysis_data = []\n",
    "transcript = []\n",
    "\n",
    "for word in words_info:\n",
    "    tag = word.speaker_tag\n",
    "    print(word.word, word.speaker_tag)\n",
    "    if(tag != old_speaker):\n",
    "        analysis_data.append([tag, start, old_end, transcript])\n",
    "        start = word.start_time\n",
    "        transcript = []\n",
    "    else: \n",
    "        transcript.append(word.word)\n",
    "    old_end = word.end_time\n",
    "    old_speaker = tag\n"
   ]
  },
  {
   "cell_type": "code",
   "execution_count": 21,
   "metadata": {},
   "outputs": [
    {
     "name": "stdout",
     "output_type": "stream",
     "text": [
      "[[1, 0, 0, []], [3, datetime.timedelta(seconds=3, microseconds=700000), datetime.timedelta(seconds=6, microseconds=800000), ['God', 'she', 'produced', 'a']], [4, datetime.timedelta(seconds=6, microseconds=800000), datetime.timedelta(seconds=9, microseconds=400000), ['presentation', 'I', 'think', \"it's\", 'already', 'on', 'actually']], [3, datetime.timedelta(seconds=14, microseconds=900000), datetime.timedelta(seconds=34, microseconds=900000), ['kind', 'of', 'medicine', 'work', 'a', 'place', 'in', 'the', 'back', 'but']], [4, datetime.timedelta(seconds=37, microseconds=900000), datetime.timedelta(seconds=40, microseconds=800000), ['right']], [3, datetime.timedelta(seconds=50, microseconds=200000), datetime.timedelta(seconds=50, microseconds=800000), []], [1, datetime.timedelta(seconds=55, microseconds=800000), datetime.timedelta(seconds=74, microseconds=500000), [\"it's\", 'the', 'kickoff', 'meeting', 'for', 'our', 'project', 'this', 'is', 'just', 'what', \"we're\", 'going', 'to', 'be', 'doing', 'over', 'the', 'next', '25', 'minutes', 'and', 'so', 'festival', 'with', 'us', 'to', 'kind', 'of', 'make', 'sure', 'that', 'we', 'all', 'know', 'each', 'other', \"I'm\", 'Laura', 'and', \"I'm\", 'the', 'project', 'manager']], [4, datetime.timedelta(seconds=85, microseconds=700000), datetime.timedelta(seconds=88, microseconds=200000), ['praying', 'and', \"I'm\", 'concerned']], [3, datetime.timedelta(seconds=88, microseconds=200000), datetime.timedelta(seconds=90, microseconds=400000), ['Okay']], [4, datetime.timedelta(seconds=90, microseconds=400000), datetime.timedelta(seconds=119, microseconds=300000), ['record', \"he's\", 'here', 'actually', 'serious', 'David', 'Andrew', 'and', 'Craigslist', 'and', 'you', 'arrived', 'on', 'time', 'and', 'yes', 'it', 'is', 'a', 'design', 'a', 'new', 'remote', 'control', 'supposed', 'to', 'be', 'original', 'trendy', 'and', 'user-friendly', 'and', 'so', \"that's\", 'kind', 'of', 'our']], [3, datetime.timedelta(seconds=119, microseconds=300000), datetime.timedelta(seconds=121, microseconds=900000), ['who', 'I', 'am']], [4, datetime.timedelta(seconds=121, microseconds=900000), datetime.timedelta(seconds=128, microseconds=600000), ['there', 'are', 'three', 'different', 'stages', 'to', 'the', 'design', 'own', 't-shirt', 'what', 'would', 'you', 'guys', 'have', 'already', 'received']], [3, datetime.timedelta(seconds=128, microseconds=600000), datetime.timedelta(seconds=141, microseconds=700000), ['your', 'emails', 'what', 'did', 'you', 'get', 'I', 'just', 'got', 'the', 'project', 'announcement', 'designing', 'a', 'remote', 'control', 'and']], [4, datetime.timedelta(seconds=141, microseconds=700000), datetime.timedelta(seconds=166, microseconds=700000), ['going', 'to', 'have', 'like', 'individual', 'working', 'in', 'a', 'meeting', 'about', 'it', 'and', 'repeat', 'that', 'process', 'three', 'times', 'and', 'at', 'this', 'point', 'to', 'get', 'triad', 'do', 'I', 'poured', 'over', 'there', 'so', 'I', 'get', 'to', 'know', 'your', 'favorite', 'animal', 'and', 'some', 'of', 'your', 'favorite', 'characteristics', 'of', 'it', 'so', 'who', 'you', 'like', 'to', 'do']], [1, datetime.timedelta(seconds=174), datetime.timedelta(seconds=174, microseconds=400000), []], [4, datetime.timedelta(seconds=174, microseconds=400000), datetime.timedelta(seconds=174, microseconds=600000), []], [1, datetime.timedelta(seconds=176), datetime.timedelta(seconds=182, microseconds=100000), ['this', 'one', 'here', 'right']], [2, datetime.timedelta(seconds=182, microseconds=100000), datetime.timedelta(seconds=190, microseconds=800000), ['right', 'my', 'favorite', 'animal', 'is']], [1, datetime.timedelta(seconds=190, microseconds=800000), datetime.timedelta(seconds=191, microseconds=600000), []], [4, datetime.timedelta(seconds=203, microseconds=200000), datetime.timedelta(seconds=240, microseconds=400000), ['Big', 'O', 'text', 'favorite', 'characteristics', 'of', 'it', 'is', 'that', 'right', 'high-priority', 'for', 'any', 'animal', 'for', 'me', 'is', 'that', \"they'd\", 'be', 'willing', 'to', 'take', 'a', 'lot', 'of', 'physical', 'affection', 'from', 'the', 'family', 'and', 'everything', 'looks', 'of', 'personality', 'and', 'beer', 'fest', 'in', 'in', 'robust', 'good', 'health', 'so', 'this', 'is', 'blue', 'blue', 'beagle']], [1, datetime.timedelta(seconds=241, microseconds=300000), datetime.timedelta(seconds=242, microseconds=300000), [\"family's\", 'beagle']], [3, datetime.timedelta(seconds=254, microseconds=800000), datetime.timedelta(seconds=256, microseconds=200000), ['animal', 'be', 'a']], [1, datetime.timedelta(seconds=256, microseconds=200000), datetime.timedelta(seconds=256, microseconds=500000), []], [3, datetime.timedelta(seconds=265), datetime.timedelta(seconds=271, microseconds=700000), ['smoking', 'for', 'a', 'Hyundai', 'when', 'plant', 'leaves', 'comes', 'real']], [1, datetime.timedelta(seconds=285, microseconds=700000), datetime.timedelta(seconds=292, microseconds=900000), ['can', 'take', 'us', 'longer', 'this', 'is', 'he', 'like', 'because', 'we', \"haven't\", 'got', 'an', 'awful', 'lot', 'to', 'this', 'everyday', 'to', 'feel', 'like', \"you're\", 'in', 'a', 'rush']], [3, datetime.timedelta(seconds=295, microseconds=800000), datetime.timedelta(seconds=297, microseconds=200000), ['could', 'tell', 'the', 'whole', 'lot', 'more', 'about']], [4, datetime.timedelta(seconds=297, microseconds=200000), datetime.timedelta(seconds=297, microseconds=900000), []], [3, datetime.timedelta(seconds=306, microseconds=800000), datetime.timedelta(seconds=309, microseconds=900000), ['control']], [4, datetime.timedelta(seconds=311, microseconds=800000), datetime.timedelta(seconds=312, microseconds=700000), ['that', 'weird']], [1, datetime.timedelta(seconds=321, microseconds=300000), datetime.timedelta(seconds=324), [\"don't\", 'know', 'if', \"it's\", 'the', 'first', 'time', 'I', 'can', 'think', 'of', 'off', 'the', 'top', 'of', 'my', 'head']], [4, datetime.timedelta(seconds=324), datetime.timedelta(seconds=326, microseconds=900000), ['is', 'cuz', \"I'm\", 'allergic', 'to']], [1, datetime.timedelta(seconds=326, microseconds=900000), datetime.timedelta(seconds=339, microseconds=700000), ['animals', 'are', 'kind', 'of', 'like', 'Wheels', 'they', 'come', 'in', 'and', 'gold', 'everything', 'inside', 'Publix', 'in', 'Mauldin']], [3, datetime.timedelta(seconds=349, microseconds=500000), datetime.timedelta(seconds=350, microseconds=900000), ['sketch', 'by', 'the', 'way']], [4, datetime.timedelta(seconds=354, microseconds=200000), datetime.timedelta(seconds=359, microseconds=600000), ['was', 'going', 'to', 'choose', 'a', 'dog', 'as', 'well', 'but', 'I', 'just', 'do', 'a', 'different', 'time', 'to', 'talk']], [1, datetime.timedelta(seconds=366, microseconds=800000), datetime.timedelta(seconds=374, microseconds=700000), [\"doesn't\", 'really', 'look', 'like', 'him', 'actually', 'electronic', 'repair', 'yaxley']], [4, datetime.timedelta(seconds=378, microseconds=200000), datetime.timedelta(seconds=383, microseconds=600000), ['see', 'a', 'dog', 'in', 'there', 'now', 'I', 'see', 'a', 'rooster']], [3, datetime.timedelta(seconds=393, microseconds=200000), datetime.timedelta(seconds=393, microseconds=900000), ['of']], [1, datetime.timedelta(seconds=393, microseconds=900000), datetime.timedelta(seconds=441, microseconds=500000), ['a', 'mixture', 'of', 'various', 'things', 'and', 'what', 'type', 'of', 'item', 'but', '50', 'suggest', 'that', 'his', 'tail', 'wags', 'and', \"he's\", 'very', 'friendly', 'and', 'Terry', 'and', 'always', 'pleased', 'to', 'see', 'you', 'and', 'that', 'kind', 'of', 'affectionate', 'Sands', 'and', \"he's\", 'quite', 'quite', 'we', 'as', 'well', 'so', 'it', \"doesn't\", 'take', 'up', 'too', 'much', 'space', 'I', 'guess', 'if', 'anything', 'were', 'you', 'tasted', 'the', 'tail', 'is', 'it', 'all', 'of', 'a', 'sudden', 'just', 'get', 'up', 'and', 'start', 'chasing', 'his', 'tail', 'around', 'the', 'living', 'room']], [3, datetime.timedelta(seconds=441, microseconds=500000), datetime.timedelta(seconds=448, microseconds=700000), ['when', 'he', 'was', 'little', 'he', 'got', 'lots', 'of', 'attention', 'for', 'doing', 'it', 'and', 'never', 'been', 'conditioned']], [4, datetime.timedelta(seconds=448, microseconds=700000), datetime.timedelta(seconds=452, microseconds=900000), ['did', 'you', 'find', 'this', 'just', 'on', 'here']], [3, datetime.timedelta(seconds=455, microseconds=300000), datetime.timedelta(seconds=466, microseconds=600000), ['BJ', 'next', 'and', 'okay', 'I', 'when', 'I']], [1, datetime.timedelta(seconds=466, microseconds=600000), datetime.timedelta(seconds=494, microseconds=600000), ['to', 'discuss', 'the', 'project', 'sign', 'in', 'so', 'according', 'to', 'the', 'brave', \"we're\", 'going', 'to', 'be', 'selling', 'this', 'remote', 'control', 'for', '25', 'year', 'old', 'and', \"I'm\", 'aiming', 'to', 'make', '50', 'million', 'euro', 'so', \"we're\", 'going', 'to', 'be', 'so', 'I', 'miss', 'on', 'an', 'international', 'scale', 'and', 'we', \"don't\", 'want', 'to', 'cause', 'any', 'more', 'than', '12:50', 'or', 'so', '50%', 'of', 'the', 'selling', 'price']], [3, datetime.timedelta(seconds=495, microseconds=800000), datetime.timedelta(seconds=513, microseconds=900000), ['we', 'just', 'go', 'over', 'that', 'again', 'sure', 'so', 'so', 'cost', 'like', 'production', 'cost', 'is', 'selling', 'prices', 'at', 'wholesale', 'or', 'retail', 'like', 'on', 'the', 'Shelf']], [4, datetime.timedelta(seconds=516, microseconds=200000), datetime.timedelta(seconds=538, microseconds=100000), ['because', \"it's\", 'probably', 'up', 'to', 'the', 'retailer', 'to', 'sell', 'it', 'for', 'whatever', 'price', 'they', 'want', 'but', 'I', \"didn't\", 'I', 'mean', 'do', 'you', 'think', 'the', 'fact', 'that', \"it's\", 'going', 'to', 'be', 'sold', 'internationally', 'will', 'have', 'a', 'bearing', 'on', 'Highway', 'design', 'at', 'the', 'toll']], [1, datetime.timedelta(seconds=538, microseconds=100000), datetime.timedelta(seconds=539, microseconds=900000), ['it', 'will']], [3, datetime.timedelta(seconds=548, microseconds=100000), datetime.timedelta(seconds=553), ['right', 'away', \"I'm\", 'wondering', 'if', 'there', 'is', 'like', 'with', 'DVD', 'players', 'if', 'there', 'are']], [1, datetime.timedelta(seconds=553), datetime.timedelta(seconds=553, microseconds=600000), []], [3, datetime.timedelta(seconds=553, microseconds=600000), datetime.timedelta(seconds=564, microseconds=600000), ['different', 'keypad', 'Styles', 'and']], [4, datetime.timedelta(seconds=564, microseconds=600000), datetime.timedelta(seconds=565, microseconds=300000), []], [1, datetime.timedelta(seconds=572, microseconds=600000), datetime.timedelta(seconds=579, microseconds=200000), ['the', 'design', 'point', 'of', 'view', 'because', 'she', 'have', 'more', 'complicated', 'characters', 'that', 'European', 'languages']], [3, datetime.timedelta(seconds=579, microseconds=200000), datetime.timedelta(seconds=596, microseconds=700000), ['the', 'other', 'thing', 'International', 'is', 'on', 'top', 'of', 'the', 'price', \"I'm\", 'thinking', 'the', 'price', 'might', 'might', 'appeal', 'to', 'a', 'certain', 'Market', 'in', 'one', 'region', 'where', 'is', 'in', 'another', 'lead', 'different', 'so']], [1, datetime.timedelta(seconds=596, microseconds=700000), datetime.timedelta(seconds=602, microseconds=400000), ['does', 'stipend', 'country', 'like', 'how', 'much', 'money', 'people', 'have', 'the']], [4, datetime.timedelta(seconds=602, microseconds=400000), datetime.timedelta(seconds=612, microseconds=700000), ['basic', 'product', 'positioning', 'the', '25', 'gyro', 'remote', 'control', 'might', 'be', 'a', 'big', 'hit', 'in', 'London', 'might', 'not', 'be', 'such', 'a', 'big', 'hit']], [3, datetime.timedelta(seconds=612, microseconds=700000), datetime.timedelta(seconds=620, microseconds=800000), ['Greece', 'who', 'knows', 'marketing', 'good', 'morning.']], [1, datetime.timedelta(seconds=620, microseconds=800000), datetime.timedelta(seconds=622, microseconds=700000), ['should', 'be', 'writing', 'all', 'this', 'time']], [3, datetime.timedelta(seconds=655, microseconds=200000), datetime.timedelta(seconds=676, microseconds=400000), ['away', \"I'm\", 'making', 'some', 'kind', 'of', 'assumptions', 'about', 'what', 'what', 'information', 'were', 'given', 'here', 'thinking', 'K', 'trendy', 'probably', 'mean', 'something', 'other', 'than', 'just', 'basic', 'standard', 'so', \"I'm\", 'wondering', 'right', 'away', 'is', 'selling', '25', 'years', 'is', 'that', 'started', 'that', 'it', 'is', 'going', 'to', 'be', 'like', 'the', 'premium', 'product']], [4, datetime.timedelta(seconds=676, microseconds=400000), datetime.timedelta(seconds=704, microseconds=900000), ['Euro', 'mean', \"that's\", \"that's\", 'why', \"I'd\", 'like', 'a', 'team', 'plans', 'or', 'something', \"isn't\", 'it', 'or', 'no', 'is', 'it', 'as', 'much', 'as', '16', '17', '18', 'Pines', 'High', 'I', 'get', 'a', 'remote', 'control', 'that', 'would', 'get', 'you', 'Beatrice', 'has', 'to', 'look', 'kind', 'of', 'cool', 'gimmicky']], [3, datetime.timedelta(seconds=706, microseconds=500000), datetime.timedelta(seconds=714), ['okay', 'you', 'just', 'going', 'to', 'hang', 'out', 'here', 'okay']], [1, datetime.timedelta(seconds=714), datetime.timedelta(seconds=721, microseconds=300000), ['anybody', 'have', 'anything', 'to', 'add', 'to', 'to', 'the', 'finance', 'issue', 'until']], [3, datetime.timedelta(seconds=722, microseconds=600000), datetime.timedelta(seconds=772, microseconds=300000), ['we', 'have', 'any', 'other', 'background', 'information', 'on', 'like', 'how', 'that', 'compares', 'to', 'other', 'yeah', 'interesting', 'thing', 'about', 'discussing', 'the', 'production', 'of', 'a', 'remote', 'control', 'for', 'me', 'is', 'that', 'as', 'you', 'pointed', 'out', 'I', 'just', \"don't\", 'think', 'remote', 'controls', 'being', 'something', 'something', 'people', 'consciously', 'assess', 'in', 'their', 'purchasing', 'habits', 'just', 'like', 'getting', 'shoelaces', 'with', 'shoes', 'or', 'something']], [1, datetime.timedelta(seconds=772, microseconds=300000), datetime.timedelta(seconds=773, microseconds=400000), ['like', 'minutes']], [4, datetime.timedelta(seconds=773, microseconds=400000), datetime.timedelta(seconds=805, microseconds=900000), ['how', 'do', 'you', 'want', 'one', 'way', 'to', 'look', 'at', 'it', 'be', 'well', 'the', 'people', 'producing', 'television', 'sets', 'maybe', 'they', 'have', 'to', 'buy', 'remote', 'controls', 'and', 'other', 'ways', 'maybe', 'people', 'that', 'have', 'TV', 'sets', 'already', 'fed', 'up', 'with', 'remote', 'control', 'and', 'they', 'really', 'want', 'a', 'better', 'one', 'or', 'something', 'about', 'animal', 'control', 'is', 'because', 'I', 'have', 'nothing', 'if', 'I', \"didn't\", 'remote', 'control', 'switch', 'the', 'brightness', 'it', 'was', 'just', 'how', 'many', 'devices', 'is', 'control', 'right', 'so', 'I', 'can', 'function', 'one', 'of', 'the', 'priorities']], [3, datetime.timedelta(seconds=805, microseconds=900000), datetime.timedelta(seconds=810, microseconds=200000), ['be', 'to', 'combine', 'as', 'many', 'uses']], [1, datetime.timedelta(seconds=811, microseconds=300000), datetime.timedelta(seconds=819, microseconds=600000), ['to', 'do', 'you', 'think', 'I', 'should', 'be', 'like', 'a', 'man', 'design', 'MFA', 'remote', 'control', 'take', 'me', 'to', 'bring', 'DDR3', 'your', 'satellite', 'in', 'your', 'regular', 'Italian', 'your', 'VCR', 'and', 'everything']], [3, datetime.timedelta(seconds=819, microseconds=600000), datetime.timedelta(seconds=842, microseconds=800000), ['of', 'a', 'successful', 'other', 'piece', 'technology', 'is', 'palm', 'Palm', 'Pilot', \"they're\", 'going', 'from', 'being', 'just', 'like', 'little', 'sort', 'of', 'scribble', 'boards', 'to', 'cameras', 'MP3', 'players', 'telephones', 'everything', 'agenda', 'so', 'like', 'I', 'wonder', 'if', 'we', 'might', 'add', 'something', 'new', 'to', 'the', 'to', 'the', 'remote', 'control', 'Market', 'such', 'as', 'the', 'lighting', 'in', 'your', 'house', 'or']], [1, datetime.timedelta(seconds=842, microseconds=800000), datetime.timedelta(seconds=852, microseconds=500000), ['and', 'what', 'you', 'want', 'to', 'watch', 'that', 'you', 'might', 'put', 'in', 'there', 'or', 'I', 'want', 'to', 'extra', 'functionality']], [4, datetime.timedelta(seconds=852, microseconds=500000), datetime.timedelta(seconds=877, microseconds=300000), ['for', 'me', 'at', 'home', \"I've\", \"I've\", 'combined', 'the', 'audio', 'video', 'of', 'my', 'television', 'set', 'in', 'my', 'DVD', 'player', 'and', 'my', 'CD', 'player', 'so', 'they', \"won't\", 'work', 'actually', 'function', 'together', 'but', \"I've\", 'different', 'remote', 'controls', 'free', 'to', 'the', 'start', 'of', 'ironic', 'that', 'that', 'then', \"they're\", 'in', 'there', 'you', 'know', 'the', 'sound', 'everything', 'is', 'just', 'one', 'system', 'for', 'the', 'each', \"one's\", 'got']], [3, datetime.timedelta(seconds=877, microseconds=300000), datetime.timedelta(seconds=885), ['own', 'little', 'partner', 'okay']], [4, datetime.timedelta(seconds=885), datetime.timedelta(seconds=902, microseconds=400000), ['going', 'to', 'have', 'to', 'wrap', 'up', 'pretty', 'quickly', 'in', 'the', 'last', 'couple', 'of', 'minutes', 'and', \"I'll\", 'just', 'tell', 'you', 'nothing', 'else', 'okay', 'so', 'anything', 'else', 'anybody', 'wants', 'but', 'what', 'they', \"don't\", 'like', 'about', 'remote', 'controllers', 'use', 'what', 'they', 'would', 'really', 'like', 'to', 'be', 'part', 'of', 'this', 'new', 'one', 'until']], [3, datetime.timedelta(seconds=902, microseconds=400000), datetime.timedelta(seconds=904, microseconds=800000), []], [4, datetime.timedelta(seconds=904, microseconds=800000), datetime.timedelta(seconds=905, microseconds=900000), ['losing', 'them', 'okay']], [3, datetime.timedelta(seconds=905, microseconds=900000), datetime.timedelta(seconds=906, microseconds=900000), ['them']], [4, datetime.timedelta(seconds=906, microseconds=900000), datetime.timedelta(seconds=922, microseconds=100000), ['you', 'like', 'wisler', 'make', 'really', 'high', 'pitched', 'noise', 'they', 'beat', 'I', 'mean', 'is', 'that', 'something', \"you'd\", 'want', 'him', 'to', 'do', 'you']], [1, datetime.timedelta(seconds=922, microseconds=100000), datetime.timedelta(seconds=927), ['I', \"can't\"]], [3, datetime.timedelta(seconds=927), datetime.timedelta(seconds=950), ['when', 'the', 'first', 'remote', 'control', 'my', 'my', 'family', 'had', 'was', 'on', 'a', 'cable', 'actuator', 'cable', 'between', 'in', 'the', 'TV', 'and', 'big', 'like', 'button', 'that', 'serves', 'like', 'like', 'on', 'a', 'blender', 'or', 'something', 'you', 'know', 'what', 'I', 'think', 'about', 'what', 'they', 'are', 'now', \"it's\", 'better', 'but', 'actually', \"it's\", 'still', 'kind', 'of', 'I', \"don't\", 'know', 'like', 'a', 'massive', 'junkie', 'thing', 'on', 'the', 'table', 'maybe', 'we', 'could', 'think', 'about', 'how', 'to', 'be', 'more', 'you', 'know']], [1, datetime.timedelta(seconds=950), datetime.timedelta(seconds=952, microseconds=700000), ['touch', 'screen', 'or', 'something']], [3, datetime.timedelta(seconds=952, microseconds=700000), datetime.timedelta(seconds=955, microseconds=800000), ['like', 'that', 'or', 'whatever', 'be', 'technologically']], [1, datetime.timedelta(seconds=955, microseconds=800000), datetime.timedelta(seconds=956, microseconds=400000), []], [4, datetime.timedelta(seconds=956, microseconds=400000), datetime.timedelta(seconds=972, microseconds=900000), ['that', \"doesn't\", 'make', 'it', 'any', 'better', 'but', 'that', 'just', 'the', 'appeal', 'of', 'action', 'of', 'not', 'having', 'you', 'know', 'these', 'days', 'is', 'a', 'few', 'things', 'in', \"people's\", 'homes', 'are', 'becoming', 'more', 'and', 'more', 'like', 'Chic', 'you', 'know', 'nicer', 'materials', 'and', 'K', 'might', 'be']], [3, datetime.timedelta(seconds=975), datetime.timedelta(seconds=976, microseconds=600000), [\"you're\", 'worth', 'exploring', 'the']], [4, datetime.timedelta(seconds=976, microseconds=600000), datetime.timedelta(seconds=1008, microseconds=100000), ['well', 'service', 'to', 'Rafa', 'the', 'next', 'meeting', 'is', 'going', 'to', 'be', 'in', '30', 'minutes', 'so', \"that's\", 'why', \"it's\", 'about', 'time', 'to', '12', 'by', 'my', 'watch', 'so', 'in', 'between', 'now', 'and', 'then', 'as', 'industrial', 'designer', \"you're\", 'going', 'to', 'be', 'working', 'on', 'you', 'need', 'that', 'to', 'working', 'design', 'of', 'it', 'so', 'you', 'know', 'what', \"you're\", 'doing', 'there', 'for', 'our', 'user', 'interface', 'technical', 'functions', 'I', 'guess', \"that's\", 'you', 'know', 'like', 'what', \"we've\", 'been', 'talking', 'about', 'what', \"I'll\", 'actually', 'day', 'and', 'and', 'marketing']], [3, datetime.timedelta(seconds=1008, microseconds=100000), datetime.timedelta(seconds=1011, microseconds=500000), [\"you'll\", 'be', 'thinking']], [4, datetime.timedelta(seconds=1011, microseconds=500000), datetime.timedelta(seconds=1019, microseconds=200000), ['what', 'it', 'actually', 'what', 'you', 'know', 'what', 'requirements', 'it', 'has', 'to', 'has', 'to', 'fulfill', 'and', \"you'll\", 'get', 'instructions', 'email', 'to', 'you', 'I', 'guess']], [3, datetime.timedelta(seconds=1025, microseconds=900000), datetime.timedelta(seconds=1026, microseconds=300000), []], [4, datetime.timedelta(seconds=1027, microseconds=800000), datetime.timedelta(seconds=1031, microseconds=400000), ['it', 'said', 'the', 'functional', 'design', 'stitches', 'next', 'I', 'guess']], [3, datetime.timedelta(seconds=1034, microseconds=200000), datetime.timedelta(seconds=1037, microseconds=200000), ['and', \"that's\", 'the', 'end', 'is']], [1, datetime.timedelta(seconds=1037, microseconds=200000), datetime.timedelta(seconds=1042, microseconds=500000), ['message', 'I', 'looks', 'cleaner', 'than', 'I', 'thought', 'I', 'would', 'too']], [4, datetime.timedelta(seconds=1046, microseconds=900000), datetime.timedelta(seconds=1055, microseconds=300000), ['we', 'wrap', 'up', 'just', 'to', 'make', 'sure', \"we're\", 'on', 'the', 'same', 'page', 'here', 'do', 'we', 'give', 'instead', 'of', 'an', 'example', 'of', 'a', 'coffee']], [1, datetime.timedelta(seconds=1055, microseconds=300000), datetime.timedelta(seconds=1057, microseconds=400000), ['or', 'so', 'well']], [3, datetime.timedelta(seconds=1060, microseconds=800000), datetime.timedelta(seconds=1072, microseconds=800000), ['we', 'at', 'right', 'now', 'in', 'the', 'assumption', 'that', 'our', 'television', 'remote', 'control', 'may', 'have', 'features', 'which', 'go', 'beyond', 'the', 'television', 'or', 'are', 'we', 'keeping', 'sort', 'of', 'like', 'a', 'design', 'commitment', 'to', 'television']], [4, datetime.timedelta(seconds=1072, microseconds=800000), datetime.timedelta(seconds=1082, microseconds=100000), ['okay', 'well', 'just', 'very', 'quickly', 'cuz', \"we're\", 'supposed', 'to', 'finish', 'my', 'I', 'guess', \"that's\", 'up', 'to', 'us', 'I', 'mean', 'you', 'probably', 'want', 'some', 'kind', 'of', 'unique', 'selling', 'point', 'of', 'it', 'so']], [3, datetime.timedelta(seconds=1082, microseconds=100000), datetime.timedelta(seconds=1133, microseconds=300000), ['know', 'production', 'cost', 'okay', 'yeah', 'yeah', 'I', 'mean', 'thank', 'you', 'all', 'for', 'coming', 'going', 'to', 'hit', 'that', 'with', 'what', 'they', 'want', 'for', 'this', 'day', 'rice', 'crepe', 'how', 'do', 'you', 'turn', 'this', 'thing', 'off', 'function', 'and', 'other', 'girl', 'I']], [4, datetime.timedelta(seconds=1133, microseconds=300000), datetime.timedelta(seconds=1136, microseconds=100000), ['if', 'you', 'can', 'just', 'leave', 'it', 'alone', 'maybe', 'and', 'then']]]\n"
     ]
    }
   ],
   "source": [
    "print(analysis_data)"
   ]
  },
  {
   "cell_type": "code",
   "execution_count": 29,
   "metadata": {},
   "outputs": [
    {
     "ename": "TypeError",
     "evalue": "'LongRunningRecognizeResponse' object is not subscriptable",
     "output_type": "error",
     "traceback": [
      "\u001b[0;31m---------------------------------------------------------------------------\u001b[0m",
      "\u001b[0;31mTypeError\u001b[0m                                 Traceback (most recent call last)",
      "\u001b[0;32m<ipython-input-29-37c7d48f9f34>\u001b[0m in \u001b[0;36m<module>\u001b[0;34m\u001b[0m\n\u001b[0;32m----> 1\u001b[0;31m \u001b[0mresponse\u001b[0m\u001b[0;34m.\u001b[0m\u001b[0mresult\u001b[0m\u001b[0;34m(\u001b[0m\u001b[0;34m)\u001b[0m\u001b[0;34m[\u001b[0m\u001b[0;34m-\u001b[0m\u001b[0;36m1\u001b[0m\u001b[0;34m]\u001b[0m\u001b[0;34m\u001b[0m\u001b[0;34m\u001b[0m\u001b[0m\n\u001b[0m",
      "\u001b[0;31mTypeError\u001b[0m: 'LongRunningRecognizeResponse' object is not subscriptable"
     ]
    }
   ],
   "source": [
    "response.result()"
   ]
  },
  {
   "cell_type": "code",
   "execution_count": 14,
   "metadata": {},
   "outputs": [
    {
     "ename": "NameError",
     "evalue": "name 'analysis_data' is not defined",
     "output_type": "error",
     "traceback": [
      "\u001b[0;31m---------------------------------------------------------------------------\u001b[0m",
      "\u001b[0;31mNameError\u001b[0m                                 Traceback (most recent call last)",
      "\u001b[0;32m<ipython-input-14-cb59e0d73946>\u001b[0m in \u001b[0;36m<module>\u001b[0;34m\u001b[0m\n\u001b[0;32m----> 1\u001b[0;31m \u001b[0mspeaker_change_times\u001b[0m \u001b[0;34m=\u001b[0m \u001b[0;34m[\u001b[0m\u001b[0mx\u001b[0m\u001b[0;34m[\u001b[0m\u001b[0;36m1\u001b[0m\u001b[0;34m]\u001b[0m\u001b[0;34m.\u001b[0m\u001b[0mseconds\u001b[0m \u001b[0;34m*\u001b[0m \u001b[0;36m1000\u001b[0m \u001b[0;34m+\u001b[0m \u001b[0mx\u001b[0m\u001b[0;34m[\u001b[0m\u001b[0;36m1\u001b[0m\u001b[0;34m]\u001b[0m\u001b[0;34m.\u001b[0m\u001b[0mmicroseconds\u001b[0m  \u001b[0;34m/\u001b[0m \u001b[0;36m1000\u001b[0m \u001b[0;32mfor\u001b[0m \u001b[0mx\u001b[0m \u001b[0;32min\u001b[0m \u001b[0manalysis_data\u001b[0m\u001b[0;34m[\u001b[0m\u001b[0;36m1\u001b[0m\u001b[0;34m:\u001b[0m\u001b[0;34m]\u001b[0m\u001b[0;34m]\u001b[0m\u001b[0;34m\u001b[0m\u001b[0;34m\u001b[0m\u001b[0m\n\u001b[0m",
      "\u001b[0;31mNameError\u001b[0m: name 'analysis_data' is not defined"
     ]
    }
   ],
   "source": [
    "speaker_change_times = [x[1].seconds * 1000 + x[1].microseconds  / 1000 for x in analysis_data[1:]]"
   ]
  },
  {
   "cell_type": "code",
   "execution_count": 4,
   "metadata": {},
   "outputs": [],
   "source": [
    "storage_client = storage.Client()\n",
    "bucket = storage_client.get_bucket(\"ami_corpus\")\n",
    "blob = bucket.blob(\"amicorpus/ES2002a/audio/ES2002a.Mix-Headset.wav\")\n",
    "blob.download_to_filename(\"/tmp/headset.wav\")\n",
    "\n",
    "#Convert downloaded object and save the export to a tmp file\n",
    "sound = AudioSegment.from_wav(\"/tmp/headset.wav\")\n"
   ]
  },
  {
   "cell_type": "code",
   "execution_count": 24,
   "metadata": {},
   "outputs": [],
   "source": [
    "sound = AudioSegment.from_wav(\"interruptions1.wav\")"
   ]
  },
  {
   "cell_type": "code",
   "execution_count": 12,
   "metadata": {},
   "outputs": [
    {
     "data": {
      "text/plain": [
       "<_io.BufferedRandom name='newSong.wav'>"
      ]
     },
     "execution_count": 12,
     "metadata": {},
     "output_type": "execute_result"
    }
   ],
   "source": [
    "sound[1000:2000].export('newSong.wav', format=\"wav\")"
   ]
  },
  {
   "cell_type": "code",
   "execution_count": 25,
   "metadata": {},
   "outputs": [],
   "source": [
    "for time in range(1000, 55000, 1000): #speaker_change_times:\n",
    "    audio_chunk=sound[time-500:time+500]\n",
    "    audio_chunk.export( \"audio_chunk_{}.wav\".format(time/1000), format=\"wav\")\n"
   ]
  },
  {
   "cell_type": "code",
   "execution_count": 9,
   "metadata": {},
   "outputs": [
    {
     "data": {
      "text/plain": [
       "246.33469387755102"
      ]
     },
     "execution_count": 9,
     "metadata": {},
     "output_type": "execute_result"
    }
   ],
   "source": [
    "sound.duration_seconds"
   ]
  },
  {
   "cell_type": "code",
   "execution_count": 5,
   "metadata": {},
   "outputs": [],
   "source": [
    "import jxmlease"
   ]
  },
  {
   "cell_type": "code",
   "execution_count": 34,
   "metadata": {},
   "outputs": [],
   "source": [
    "xml_files = ['ES2002a.A.words.xml', 'ES2002a.B.words.xml', 'ES2002a.C.words.xml', 'ES2002a.D.words.xml']"
   ]
  },
  {
   "cell_type": "code",
   "execution_count": 57,
   "metadata": {},
   "outputs": [],
   "source": [
    "def get_speaker_change_times(xml_files):\n",
    "    speaker_change_times = []\n",
    "    \n",
    "    for xml_file in xml_files:\n",
    "        with open(xml_file) as topic:\n",
    "            topic_content = topic.read()\n",
    "\n",
    "        root = jxmlease.parse(topic_content)\n",
    "        words = root['nite:root']['w']\n",
    "\n",
    "        for i in range(1, len(words)):\n",
    "            if(words[i-1].get_xml_attr('endtime') != words[i].get_xml_attr('starttime')):\n",
    "                speaker_change_times.append(words[i].get_xml_attr('starttime'))\n",
    "    \n",
    "    speaker_change_times = set(speaker_change_times)\n",
    "        \n",
    "    return [int(float(x)*1000) for x in speaker_change_times]\n",
    "\n",
    "\n",
    "def get_sound_chunks(sound_files):\n",
    "    counter = 0\n",
    "    for file in sound_files:\n",
    "        for time in speaker_change_times: \n",
    "            sound = AudioSegment.from_wav(file)\n",
    "            audio_chunk=sound[time-500:time+500]\n",
    "            audio_chunk.export( \"audio_chunk_{file}_{}.wav\".format(file=file, ), format=\"wav\")\n",
    "            "
   ]
  },
  {
   "cell_type": "code",
   "execution_count": 58,
   "metadata": {},
   "outputs": [],
   "source": [
    "speaker_change_times = get_speaker_change_times(xml_files)"
   ]
  },
  {
   "cell_type": "code",
   "execution_count": 55,
   "metadata": {},
   "outputs": [
    {
     "data": {
      "text/plain": [
       "[394870,\n",
       " 615740,\n",
       " 181390,\n",
       " 1095780,\n",
       " 571220,\n",
       " 907470,\n",
       " 619010,\n",
       " 528900,\n",
       " 876880,\n",
       " 1060990,\n",
       " 819790,\n",
       " 135080,\n",
       " 312060,\n",
       " 566170,\n",
       " 539310,\n",
       " 591000,\n",
       " 580420,\n",
       " 318580,\n",
       " 665360,\n",
       " 904600,\n",
       " 307060,\n",
       " 969000,\n",
       " 707100,\n",
       " 874020,\n",
       " 681660,\n",
       " 916120,\n",
       " 309380,\n",
       " 1049540,\n",
       " 538770,\n",
       " 338220,\n",
       " 565130,\n",
       " 840250,\n",
       " 843990,\n",
       " 954090,\n",
       " 524210,\n",
       " 711430,\n",
       " 1104580,\n",
       " 488560,\n",
       " 499160,\n",
       " 598260,\n",
       " 692420,\n",
       " 203450,\n",
       " 472410,\n",
       " 730730,\n",
       " 431270,\n",
       " 1089890,\n",
       " 602870,\n",
       " 243400,\n",
       " 568460,\n",
       " 132570,\n",
       " 818450,\n",
       " 878950,\n",
       " 140100,\n",
       " 689770,\n",
       " 849080,\n",
       " 508170,\n",
       " 993880,\n",
       " 962220,\n",
       " 1086960,\n",
       " 553780,\n",
       " 811510,\n",
       " 373300,\n",
       " 734730,\n",
       " 518309,\n",
       " 904750,\n",
       " 772010,\n",
       " 937000,\n",
       " 1039800,\n",
       " 835220,\n",
       " 906450,\n",
       " 777320,\n",
       " 86070,\n",
       " 975240,\n",
       " 531580,\n",
       " 375840,\n",
       " 138960,\n",
       " 977170,\n",
       " 924350,\n",
       " 354910,\n",
       " 543860,\n",
       " 167840,\n",
       " 670310,\n",
       " 341850,\n",
       " 312050,\n",
       " 1084360,\n",
       " 215950,\n",
       " 903080,\n",
       " 727650,\n",
       " 140470,\n",
       " 581300,\n",
       " 313090,\n",
       " 440330,\n",
       " 458920,\n",
       " 1036470,\n",
       " 293260,\n",
       " 353860,\n",
       " 655450,\n",
       " 301140,\n",
       " 951410,\n",
       " 697980,\n",
       " 349660,\n",
       " 1019670,\n",
       " 852790,\n",
       " 806460,\n",
       " 378460,\n",
       " 767690,\n",
       " 382820,\n",
       " 449000,\n",
       " 565050,\n",
       " 82080,\n",
       " 80810,\n",
       " 425560,\n",
       " 379520,\n",
       " 548280,\n",
       " 953060,\n",
       " 971850,\n",
       " 976660,\n",
       " 190010,\n",
       " 722810,\n",
       " 443590,\n",
       " 255070,\n",
       " 444050,\n",
       " 957540,\n",
       " 388270,\n",
       " 296020,\n",
       " 415000,\n",
       " 956360,\n",
       " 1010020,\n",
       " 582330,\n",
       " 772800,\n",
       " 776120,\n",
       " 1081990,\n",
       " 777700,\n",
       " 684900,\n",
       " 183260,\n",
       " 1098510,\n",
       " 691160,\n",
       " 505280,\n",
       " 866590,\n",
       " 1087570,\n",
       " 433830,\n",
       " 531830,\n",
       " 975570,\n",
       " 1073560,\n",
       " 183930,\n",
       " 883050,\n",
       " 496020,\n",
       " 297940,\n",
       " 580660,\n",
       " 804470,\n",
       " 497990,\n",
       " 1068760,\n",
       " 794530,\n",
       " 1058610,\n",
       " 166670,\n",
       " 280750,\n",
       " 526790,\n",
       " 753670,\n",
       " 620480,\n",
       " 911100,\n",
       " 925370,\n",
       " 1039119,\n",
       " 515159,\n",
       " 55980,\n",
       " 442020,\n",
       " 832760,\n",
       " 74890,\n",
       " 1056930,\n",
       " 104890,\n",
       " 1096030,\n",
       " 108960,\n",
       " 342420,\n",
       " 1102400,\n",
       " 794520,\n",
       " 814980,\n",
       " 1076560,\n",
       " 275670,\n",
       " 680520,\n",
       " 946260,\n",
       " 913220,\n",
       " 601090,\n",
       " 174200,\n",
       " 687720,\n",
       " 571740,\n",
       " 540690,\n",
       " 915450,\n",
       " 735110,\n",
       " 1109230,\n",
       " 660700,\n",
       " 141800,\n",
       " 519669,\n",
       " 545430,\n",
       " 792520,\n",
       " 268000,\n",
       " 338480,\n",
       " 799880,\n",
       " 872030,\n",
       " 332030,\n",
       " 728350,\n",
       " 696230,\n",
       " 1028050,\n",
       " 1093830,\n",
       " 137120,\n",
       " 1098520,\n",
       " 53560,\n",
       " 597790,\n",
       " 285960,\n",
       " 1056300,\n",
       " 1093820,\n",
       " 89300,\n",
       " 1087590,\n",
       " 211970,\n",
       " 704030,\n",
       " 732320,\n",
       " 913170,\n",
       " 677150,\n",
       " 465510,\n",
       " 914770,\n",
       " 919280,\n",
       " 1034470,\n",
       " 359620,\n",
       " 393420,\n",
       " 327910,\n",
       " 447150,\n",
       " 1047170,\n",
       " 702020,\n",
       " 367010,\n",
       " 1021550,\n",
       " 275830,\n",
       " 722770,\n",
       " 1106580,\n",
       " 455510]"
      ]
     },
     "execution_count": 55,
     "metadata": {},
     "output_type": "execute_result"
    }
   ],
   "source": [
    "speaker_change_times"
   ]
  },
  {
   "cell_type": "code",
   "execution_count": null,
   "metadata": {},
   "outputs": [],
   "source": [
    "[\"/tmp/headset.wav\"]\n"
   ]
  }
 ],
 "metadata": {
  "kernelspec": {
   "display_name": "Python 3",
   "language": "python",
   "name": "python3"
  },
  "language_info": {
   "codemirror_mode": {
    "name": "ipython",
    "version": 3
   },
   "file_extension": ".py",
   "mimetype": "text/x-python",
   "name": "python",
   "nbconvert_exporter": "python",
   "pygments_lexer": "ipython3",
   "version": "3.8.3"
  }
 },
 "nbformat": 4,
 "nbformat_minor": 4
}
