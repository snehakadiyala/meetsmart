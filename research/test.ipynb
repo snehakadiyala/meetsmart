{
 "cells": [
  {
   "cell_type": "code",
   "execution_count": 1,
   "metadata": {},
   "outputs": [],
   "source": [
    "from google.cloud import speech_v1p1beta1 as speech\n",
    "from google.cloud import storage\n",
    "from pydub import AudioSegment\n",
    "\n",
    "import json\n",
    "client = speech.SpeechClient()"
   ]
  },
  {
   "cell_type": "code",
   "execution_count": 2,
   "metadata": {},
   "outputs": [],
   "source": [
    "gcs_uri = \"gs://ami_corpus/amicorpus/ES2002a/audio/ES2002a.Mix-Headset.wav\""
   ]
  },
  {
   "cell_type": "code",
   "execution_count": 3,
   "metadata": {},
   "outputs": [],
   "source": [
    "audio = speech.RecognitionAudio(uri=gcs_uri)\n",
    "config = speech.RecognitionConfig(\n",
    "    encoding=speech.RecognitionConfig.AudioEncoding.LINEAR16,\n",
    "    sample_rate_hertz=16000,\n",
    "    language_code=\"en-US\",\n",
    "    enable_speaker_diarization=True,\n",
    "    diarization_speaker_count=4,\n",
    ")"
   ]
  },
  {
   "cell_type": "code",
   "execution_count": 4,
   "metadata": {},
   "outputs": [
    {
     "name": "stdout",
     "output_type": "stream",
     "text": [
      "Waiting for operation to complete...\n"
     ]
    }
   ],
   "source": [
    "print(\"Waiting for operation to complete...\")\n",
    "response = client.long_running_recognize(config=config, audio=audio)"
   ]
  },
  {
   "cell_type": "code",
   "execution_count": 5,
   "metadata": {},
   "outputs": [],
   "source": [
    "result = response.result().results"
   ]
  },
  {
   "cell_type": "code",
   "execution_count": 7,
   "metadata": {},
   "outputs": [],
   "source": [
    "words_info = result[-1].alternatives[0].words"
   ]
  },
  {
   "cell_type": "code",
   "execution_count": 14,
   "metadata": {},
   "outputs": [
    {
     "data": {
      "text/plain": [
       "[4.941666666666662,\n",
       " 2.0066666666666655,\n",
       " 5.440000000000003,\n",
       " 0.013333333333333334]"
      ]
     },
     "execution_count": 14,
     "metadata": {},
     "output_type": "execute_result"
    }
   ],
   "source": [
    "def get_speaker_timings(words, speaker_count):\n",
    "    timing = [0] * speaker_count\n",
    "    for word in words: \n",
    "        timing[word.speaker_tag-1] += (word.end_time - word.start_time).total_seconds() \n",
    "    return [time / 60 for time in timing]\n",
    "\n",
    "def get_speaker_stats(timing):\n",
    "    return np.mean(timing), np.std(timing), np.var(timing)\n",
    "\n",
    "def get_benchmark_communication():\n",
    "    pass\n",
    "timings = get_speaker_timings(words_info, 4)\n",
    "get_speaker_stats(timings)"
   ]
  },
  {
   "cell_type": "code",
   "execution_count": 15,
   "metadata": {},
   "outputs": [
    {
     "ename": "NameError",
     "evalue": "name 'result' is not defined",
     "output_type": "error",
     "traceback": [
      "\u001b[0;31m---------------------------------------------------------------------------\u001b[0m",
      "\u001b[0;31mNameError\u001b[0m                                 Traceback (most recent call last)",
      "\u001b[0;32m<ipython-input-15-baf6889f073e>\u001b[0m in \u001b[0;36m<module>\u001b[0;34m\u001b[0m\n\u001b[0;32m----> 1\u001b[0;31m \u001b[0mwords_info\u001b[0m \u001b[0;34m=\u001b[0m \u001b[0mresult\u001b[0m\u001b[0;34m[\u001b[0m\u001b[0;34m-\u001b[0m\u001b[0;36m1\u001b[0m\u001b[0;34m]\u001b[0m\u001b[0;34m.\u001b[0m\u001b[0malternatives\u001b[0m\u001b[0;34m[\u001b[0m\u001b[0;36m0\u001b[0m\u001b[0;34m]\u001b[0m\u001b[0;34m.\u001b[0m\u001b[0mwords\u001b[0m\u001b[0;34m\u001b[0m\u001b[0;34m\u001b[0m\u001b[0m\n\u001b[0m\u001b[1;32m      2\u001b[0m \u001b[0mold_speaker\u001b[0m \u001b[0;34m=\u001b[0m \u001b[0;34m\"\"\u001b[0m\u001b[0;34m\u001b[0m\u001b[0;34m\u001b[0m\u001b[0m\n\u001b[1;32m      3\u001b[0m \u001b[0mold_end\u001b[0m \u001b[0;34m=\u001b[0m \u001b[0;36m0\u001b[0m\u001b[0;34m\u001b[0m\u001b[0;34m\u001b[0m\u001b[0m\n\u001b[1;32m      4\u001b[0m \u001b[0mstart\u001b[0m \u001b[0;34m=\u001b[0m \u001b[0;36m0\u001b[0m\u001b[0;34m\u001b[0m\u001b[0;34m\u001b[0m\u001b[0m\n\u001b[1;32m      5\u001b[0m \u001b[0manalysis_data\u001b[0m \u001b[0;34m=\u001b[0m \u001b[0;34m[\u001b[0m\u001b[0;34m]\u001b[0m\u001b[0;34m\u001b[0m\u001b[0;34m\u001b[0m\u001b[0m\n",
      "\u001b[0;31mNameError\u001b[0m: name 'result' is not defined"
     ]
    }
   ],
   "source": [
    "\n",
    "old_speaker = \"\"\n",
    "old_end = 0\n",
    "start = 0\n",
    "analysis_data = []\n",
    "transcript = []\n",
    "\n",
    "for word in words_info:\n",
    "    tag = word.speaker_tag\n",
    "    print(word.word, word.speaker_tag)\n",
    "    if(tag != old_speaker):\n",
    "        analysis_data.append([tag, start, old_end, transcript])\n",
    "        start = word.start_time\n",
    "        transcript = []\n",
    "    else: \n",
    "        transcript.append(word.word)\n",
    "    old_end = word.end_time\n",
    "    old_speaker = tag\n"
   ]
  },
  {
   "cell_type": "code",
   "execution_count": 21,
   "metadata": {},
   "outputs": [
    {
     "name": "stdout",
     "output_type": "stream",
     "text": [
      "[[1, 0, 0, []], [3, datetime.timedelta(seconds=3, microseconds=700000), datetime.timedelta(seconds=6, microseconds=800000), ['God', 'she', 'produced', 'a']], [4, datetime.timedelta(seconds=6, microseconds=800000), datetime.timedelta(seconds=9, microseconds=400000), ['presentation', 'I', 'think', \"it's\", 'already', 'on', 'actually']], [3, datetime.timedelta(seconds=14, microseconds=900000), datetime.timedelta(seconds=34, microseconds=900000), ['kind', 'of', 'medicine', 'work', 'a', 'place', 'in', 'the', 'back', 'but']], [4, datetime.timedelta(seconds=37, microseconds=900000), datetime.timedelta(seconds=40, microseconds=800000), ['right']], [3, datetime.timedelta(seconds=50, microseconds=200000), datetime.timedelta(seconds=50, microseconds=800000), []], [1, datetime.timedelta(seconds=55, microseconds=800000), datetime.timedelta(seconds=74, microseconds=500000), [\"it's\", 'the', 'kickoff', 'meeting', 'for', 'our', 'project', 'this', 'is', 'just', 'what', \"we're\", 'going', 'to', 'be', 'doing', 'over', 'the', 'next', '25', 'minutes', 'and', 'so', 'festival', 'with', 'us', 'to', 'kind', 'of', 'make', 'sure', 'that', 'we', 'all', 'know', 'each', 'other', \"I'm\", 'Laura', 'and', \"I'm\", 'the', 'project', 'manager']], [4, datetime.timedelta(seconds=85, microseconds=700000), datetime.timedelta(seconds=88, microseconds=200000), ['praying', 'and', \"I'm\", 'concerned']], [3, datetime.timedelta(seconds=88, microseconds=200000), datetime.timedelta(seconds=90, microseconds=400000), ['Okay']], [4, datetime.timedelta(seconds=90, microseconds=400000), datetime.timedelta(seconds=119, microseconds=300000), ['record', \"he's\", 'here', 'actually', 'serious', 'David', 'Andrew', 'and', 'Craigslist', 'and', 'you', 'arrived', 'on', 'time', 'and', 'yes', 'it', 'is', 'a', 'design', 'a', 'new', 'remote', 'control', 'supposed', 'to', 'be', 'original', 'trendy', 'and', 'user-friendly', 'and', 'so', \"that's\", 'kind', 'of', 'our']], [3, datetime.timedelta(seconds=119, microseconds=300000), datetime.timedelta(seconds=121, microseconds=900000), ['who', 'I', 'am']], [4, datetime.timedelta(seconds=121, microseconds=900000), datetime.timedelta(seconds=128, microseconds=600000), ['there', 'are', 'three', 'different', 'stages', 'to', 'the', 'design', 'own', 't-shirt', 'what', 'would', 'you', 'guys', 'have', 'already', 'received']], [3, datetime.timedelta(seconds=128, microseconds=600000), datetime.timedelta(seconds=141, microseconds=700000), ['your', 'emails', 'what', 'did', 'you', 'get', 'I', 'just', 'got', 'the', 'project', 'announcement', 'designing', 'a', 'remote', 'control', 'and']], [4, datetime.timedelta(seconds=141, microseconds=700000), datetime.timedelta(seconds=166, microseconds=700000), ['going', 'to', 'have', 'like', 'individual', 'working', 'in', 'a', 'meeting', 'about', 'it', 'and', 'repeat', 'that', 'process', 'three', 'times', 'and', 'at', 'this', 'point', 'to', 'get', 'triad', 'do', 'I', 'poured', 'over', 'there', 'so', 'I', 'get', 'to', 'know', 'your', 'favorite', 'animal', 'and', 'some', 'of', 'your', 'favorite', 'characteristics', 'of', 'it', 'so', 'who', 'you', 'like', 'to', 'do']], [1, datetime.timedelta(seconds=174), datetime.timedelta(seconds=174, microseconds=400000), []], [4, datetime.timedelta(seconds=174, microseconds=400000), datetime.timedelta(seconds=174, microseconds=600000), []], [1, datetime.timedelta(seconds=176), datetime.timedelta(seconds=182, microseconds=100000), ['this', 'one', 'here', 'right']], [2, datetime.timedelta(seconds=182, microseconds=100000), datetime.timedelta(seconds=190, microseconds=800000), ['right', 'my', 'favorite', 'animal', 'is']], [1, datetime.timedelta(seconds=190, microseconds=800000), datetime.timedelta(seconds=191, microseconds=600000), []], [4, datetime.timedelta(seconds=203, microseconds=200000), datetime.timedelta(seconds=240, microseconds=400000), ['Big', 'O', 'text', 'favorite', 'characteristics', 'of', 'it', 'is', 'that', 'right', 'high-priority', 'for', 'any', 'animal', 'for', 'me', 'is', 'that', \"they'd\", 'be', 'willing', 'to', 'take', 'a', 'lot', 'of', 'physical', 'affection', 'from', 'the', 'family', 'and', 'everything', 'looks', 'of', 'personality', 'and', 'beer', 'fest', 'in', 'in', 'robust', 'good', 'health', 'so', 'this', 'is', 'blue', 'blue', 'beagle']], [1, datetime.timedelta(seconds=241, microseconds=300000), datetime.timedelta(seconds=242, microseconds=300000), [\"family's\", 'beagle']], [3, datetime.timedelta(seconds=254, microseconds=800000), datetime.timedelta(seconds=256, microseconds=200000), ['animal', 'be', 'a']], [1, datetime.timedelta(seconds=256, microseconds=200000), datetime.timedelta(seconds=256, microseconds=500000), []], [3, datetime.timedelta(seconds=265), datetime.timedelta(seconds=271, microseconds=700000), ['smoking', 'for', 'a', 'Hyundai', 'when', 'plant', 'leaves', 'comes', 'real']], [1, datetime.timedelta(seconds=285, microseconds=700000), datetime.timedelta(seconds=292, microseconds=900000), ['can', 'take', 'us', 'longer', 'this', 'is', 'he', 'like', 'because', 'we', \"haven't\", 'got', 'an', 'awful', 'lot', 'to', 'this', 'everyday', 'to', 'feel', 'like', \"you're\", 'in', 'a', 'rush']], [3, datetime.timedelta(seconds=295, microseconds=800000), datetime.timedelta(seconds=297, microseconds=200000), ['could', 'tell', 'the', 'whole', 'lot', 'more', 'about']], [4, datetime.timedelta(seconds=297, microseconds=200000), datetime.timedelta(seconds=297, microseconds=900000), []], [3, datetime.timedelta(seconds=306, microseconds=800000), datetime.timedelta(seconds=309, microseconds=900000), ['control']], [4, datetime.timedelta(seconds=311, microseconds=800000), datetime.timedelta(seconds=312, microseconds=700000), ['that', 'weird']], [1, datetime.timedelta(seconds=321, microseconds=300000), datetime.timedelta(seconds=324), [\"don't\", 'know', 'if', \"it's\", 'the', 'first', 'time', 'I', 'can', 'think', 'of', 'off', 'the', 'top', 'of', 'my', 'head']], [4, datetime.timedelta(seconds=324), datetime.timedelta(seconds=326, microseconds=900000), ['is', 'cuz', \"I'm\", 'allergic', 'to']], [1, datetime.timedelta(seconds=326, microseconds=900000), datetime.timedelta(seconds=339, microseconds=700000), ['animals', 'are', 'kind', 'of', 'like', 'Wheels', 'they', 'come', 'in', 'and', 'gold', 'everything', 'inside', 'Publix', 'in', 'Mauldin']], [3, datetime.timedelta(seconds=349, microseconds=500000), datetime.timedelta(seconds=350, microseconds=900000), ['sketch', 'by', 'the', 'way']], [4, datetime.timedelta(seconds=354, microseconds=200000), datetime.timedelta(seconds=359, microseconds=600000), ['was', 'going', 'to', 'choose', 'a', 'dog', 'as', 'well', 'but', 'I', 'just', 'do', 'a', 'different', 'time', 'to', 'talk']], [1, datetime.timedelta(seconds=366, microseconds=800000), datetime.timedelta(seconds=374, microseconds=700000), [\"doesn't\", 'really', 'look', 'like', 'him', 'actually', 'electronic', 'repair', 'yaxley']], [4, datetime.timedelta(seconds=378, microseconds=200000), datetime.timedelta(seconds=383, microseconds=600000), ['see', 'a', 'dog', 'in', 'there', 'now', 'I', 'see', 'a', 'rooster']], [3, datetime.timedelta(seconds=393, microseconds=200000), datetime.timedelta(seconds=393, microseconds=900000), ['of']], [1, datetime.timedelta(seconds=393, microseconds=900000), datetime.timedelta(seconds=441, microseconds=500000), ['a', 'mixture', 'of', 'various', 'things', 'and', 'what', 'type', 'of', 'item', 'but', '50', 'suggest', 'that', 'his', 'tail', 'wags', 'and', \"he's\", 'very', 'friendly', 'and', 'Terry', 'and', 'always', 'pleased', 'to', 'see', 'you', 'and', 'that', 'kind', 'of', 'affectionate', 'Sands', 'and', \"he's\", 'quite', 'quite', 'we', 'as', 'well', 'so', 'it', \"doesn't\", 'take', 'up', 'too', 'much', 'space', 'I', 'guess', 'if', 'anything', 'were', 'you', 'tasted', 'the', 'tail', 'is', 'it', 'all', 'of', 'a', 'sudden', 'just', 'get', 'up', 'and', 'start', 'chasing', 'his', 'tail', 'around', 'the', 'living', 'room']], [3, datetime.timedelta(seconds=441, microseconds=500000), datetime.timedelta(seconds=448, microseconds=700000), ['when', 'he', 'was', 'little', 'he', 'got', 'lots', 'of', 'attention', 'for', 'doing', 'it', 'and', 'never', 'been', 'conditioned']], [4, datetime.timedelta(seconds=448, microseconds=700000), datetime.timedelta(seconds=452, microseconds=900000), ['did', 'you', 'find', 'this', 'just', 'on', 'here']], [3, datetime.timedelta(seconds=455, microseconds=300000), datetime.timedelta(seconds=466, microseconds=600000), ['BJ', 'next', 'and', 'okay', 'I', 'when', 'I']], [1, datetime.timedelta(seconds=466, microseconds=600000), datetime.timedelta(seconds=494, microseconds=600000), ['to', 'discuss', 'the', 'project', 'sign', 'in', 'so', 'according', 'to', 'the', 'brave', \"we're\", 'going', 'to', 'be', 'selling', 'this', 'remote', 'control', 'for', '25', 'year', 'old', 'and', \"I'm\", 'aiming', 'to', 'make', '50', 'million', 'euro', 'so', \"we're\", 'going', 'to', 'be', 'so', 'I', 'miss', 'on', 'an', 'international', 'scale', 'and', 'we', \"don't\", 'want', 'to', 'cause', 'any', 'more', 'than', '12:50', 'or', 'so', '50%', 'of', 'the', 'selling', 'price']], [3, datetime.timedelta(seconds=495, microseconds=800000), datetime.timedelta(seconds=513, microseconds=900000), ['we', 'just', 'go', 'over', 'that', 'again', 'sure', 'so', 'so', 'cost', 'like', 'production', 'cost', 'is', 'selling', 'prices', 'at', 'wholesale', 'or', 'retail', 'like', 'on', 'the', 'Shelf']], [4, datetime.timedelta(seconds=516, microseconds=200000), datetime.timedelta(seconds=538, microseconds=100000), ['because', \"it's\", 'probably', 'up', 'to', 'the', 'retailer', 'to', 'sell', 'it', 'for', 'whatever', 'price', 'they', 'want', 'but', 'I', \"didn't\", 'I', 'mean', 'do', 'you', 'think', 'the', 'fact', 'that', \"it's\", 'going', 'to', 'be', 'sold', 'internationally', 'will', 'have', 'a', 'bearing', 'on', 'Highway', 'design', 'at', 'the', 'toll']], [1, datetime.timedelta(seconds=538, microseconds=100000), datetime.timedelta(seconds=539, microseconds=900000), ['it', 'will']], [3, datetime.timedelta(seconds=548, microseconds=100000), datetime.timedelta(seconds=553), ['right', 'away', \"I'm\", 'wondering', 'if', 'there', 'is', 'like', 'with', 'DVD', 'players', 'if', 'there', 'are']], [1, datetime.timedelta(seconds=553), datetime.timedelta(seconds=553, microseconds=600000), []], [3, datetime.timedelta(seconds=553, microseconds=600000), datetime.timedelta(seconds=564, microseconds=600000), ['different', 'keypad', 'Styles', 'and']], [4, datetime.timedelta(seconds=564, microseconds=600000), datetime.timedelta(seconds=565, microseconds=300000), []], [1, datetime.timedelta(seconds=572, microseconds=600000), datetime.timedelta(seconds=579, microseconds=200000), ['the', 'design', 'point', 'of', 'view', 'because', 'she', 'have', 'more', 'complicated', 'characters', 'that', 'European', 'languages']], [3, datetime.timedelta(seconds=579, microseconds=200000), datetime.timedelta(seconds=596, microseconds=700000), ['the', 'other', 'thing', 'International', 'is', 'on', 'top', 'of', 'the', 'price', \"I'm\", 'thinking', 'the', 'price', 'might', 'might', 'appeal', 'to', 'a', 'certain', 'Market', 'in', 'one', 'region', 'where', 'is', 'in', 'another', 'lead', 'different', 'so']], [1, datetime.timedelta(seconds=596, microseconds=700000), datetime.timedelta(seconds=602, microseconds=400000), ['does', 'stipend', 'country', 'like', 'how', 'much', 'money', 'people', 'have', 'the']], [4, datetime.timedelta(seconds=602, microseconds=400000), datetime.timedelta(seconds=612, microseconds=700000), ['basic', 'product', 'positioning', 'the', '25', 'gyro', 'remote', 'control', 'might', 'be', 'a', 'big', 'hit', 'in', 'London', 'might', 'not', 'be', 'such', 'a', 'big', 'hit']], [3, datetime.timedelta(seconds=612, microseconds=700000), datetime.timedelta(seconds=620, microseconds=800000), ['Greece', 'who', 'knows', 'marketing', 'good', 'morning.']], [1, datetime.timedelta(seconds=620, microseconds=800000), datetime.timedelta(seconds=622, microseconds=700000), ['should', 'be', 'writing', 'all', 'this', 'time']], [3, datetime.timedelta(seconds=655, microseconds=200000), datetime.timedelta(seconds=676, microseconds=400000), ['away', \"I'm\", 'making', 'some', 'kind', 'of', 'assumptions', 'about', 'what', 'what', 'information', 'were', 'given', 'here', 'thinking', 'K', 'trendy', 'probably', 'mean', 'something', 'other', 'than', 'just', 'basic', 'standard', 'so', \"I'm\", 'wondering', 'right', 'away', 'is', 'selling', '25', 'years', 'is', 'that', 'started', 'that', 'it', 'is', 'going', 'to', 'be', 'like', 'the', 'premium', 'product']], [4, datetime.timedelta(seconds=676, microseconds=400000), datetime.timedelta(seconds=704, microseconds=900000), ['Euro', 'mean', \"that's\", \"that's\", 'why', \"I'd\", 'like', 'a', 'team', 'plans', 'or', 'something', \"isn't\", 'it', 'or', 'no', 'is', 'it', 'as', 'much', 'as', '16', '17', '18', 'Pines', 'High', 'I', 'get', 'a', 'remote', 'control', 'that', 'would', 'get', 'you', 'Beatrice', 'has', 'to', 'look', 'kind', 'of', 'cool', 'gimmicky']], [3, datetime.timedelta(seconds=706, microseconds=500000), datetime.timedelta(seconds=714), ['okay', 'you', 'just', 'going', 'to', 'hang', 'out', 'here', 'okay']], [1, datetime.timedelta(seconds=714), datetime.timedelta(seconds=721, microseconds=300000), ['anybody', 'have', 'anything', 'to', 'add', 'to', 'to', 'the', 'finance', 'issue', 'until']], [3, datetime.timedelta(seconds=722, microseconds=600000), datetime.timedelta(seconds=772, microseconds=300000), ['we', 'have', 'any', 'other', 'background', 'information', 'on', 'like', 'how', 'that', 'compares', 'to', 'other', 'yeah', 'interesting', 'thing', 'about', 'discussing', 'the', 'production', 'of', 'a', 'remote', 'control', 'for', 'me', 'is', 'that', 'as', 'you', 'pointed', 'out', 'I', 'just', \"don't\", 'think', 'remote', 'controls', 'being', 'something', 'something', 'people', 'consciously', 'assess', 'in', 'their', 'purchasing', 'habits', 'just', 'like', 'getting', 'shoelaces', 'with', 'shoes', 'or', 'something']], [1, datetime.timedelta(seconds=772, microseconds=300000), datetime.timedelta(seconds=773, microseconds=400000), ['like', 'minutes']], [4, datetime.timedelta(seconds=773, microseconds=400000), datetime.timedelta(seconds=805, microseconds=900000), ['how', 'do', 'you', 'want', 'one', 'way', 'to', 'look', 'at', 'it', 'be', 'well', 'the', 'people', 'producing', 'television', 'sets', 'maybe', 'they', 'have', 'to', 'buy', 'remote', 'controls', 'and', 'other', 'ways', 'maybe', 'people', 'that', 'have', 'TV', 'sets', 'already', 'fed', 'up', 'with', 'remote', 'control', 'and', 'they', 'really', 'want', 'a', 'better', 'one', 'or', 'something', 'about', 'animal', 'control', 'is', 'because', 'I', 'have', 'nothing', 'if', 'I', \"didn't\", 'remote', 'control', 'switch', 'the', 'brightness', 'it', 'was', 'just', 'how', 'many', 'devices', 'is', 'control', 'right', 'so', 'I', 'can', 'function', 'one', 'of', 'the', 'priorities']], [3, datetime.timedelta(seconds=805, microseconds=900000), datetime.timedelta(seconds=810, microseconds=200000), ['be', 'to', 'combine', 'as', 'many', 'uses']], [1, datetime.timedelta(seconds=811, microseconds=300000), datetime.timedelta(seconds=819, microseconds=600000), ['to', 'do', 'you', 'think', 'I', 'should', 'be', 'like', 'a', 'man', 'design', 'MFA', 'remote', 'control', 'take', 'me', 'to', 'bring', 'DDR3', 'your', 'satellite', 'in', 'your', 'regular', 'Italian', 'your', 'VCR', 'and', 'everything']], [3, datetime.timedelta(seconds=819, microseconds=600000), datetime.timedelta(seconds=842, microseconds=800000), ['of', 'a', 'successful', 'other', 'piece', 'technology', 'is', 'palm', 'Palm', 'Pilot', \"they're\", 'going', 'from', 'being', 'just', 'like', 'little', 'sort', 'of', 'scribble', 'boards', 'to', 'cameras', 'MP3', 'players', 'telephones', 'everything', 'agenda', 'so', 'like', 'I', 'wonder', 'if', 'we', 'might', 'add', 'something', 'new', 'to', 'the', 'to', 'the', 'remote', 'control', 'Market', 'such', 'as', 'the', 'lighting', 'in', 'your', 'house', 'or']], [1, datetime.timedelta(seconds=842, microseconds=800000), datetime.timedelta(seconds=852, microseconds=500000), ['and', 'what', 'you', 'want', 'to', 'watch', 'that', 'you', 'might', 'put', 'in', 'there', 'or', 'I', 'want', 'to', 'extra', 'functionality']], [4, datetime.timedelta(seconds=852, microseconds=500000), datetime.timedelta(seconds=877, microseconds=300000), ['for', 'me', 'at', 'home', \"I've\", \"I've\", 'combined', 'the', 'audio', 'video', 'of', 'my', 'television', 'set', 'in', 'my', 'DVD', 'player', 'and', 'my', 'CD', 'player', 'so', 'they', \"won't\", 'work', 'actually', 'function', 'together', 'but', \"I've\", 'different', 'remote', 'controls', 'free', 'to', 'the', 'start', 'of', 'ironic', 'that', 'that', 'then', \"they're\", 'in', 'there', 'you', 'know', 'the', 'sound', 'everything', 'is', 'just', 'one', 'system', 'for', 'the', 'each', \"one's\", 'got']], [3, datetime.timedelta(seconds=877, microseconds=300000), datetime.timedelta(seconds=885), ['own', 'little', 'partner', 'okay']], [4, datetime.timedelta(seconds=885), datetime.timedelta(seconds=902, microseconds=400000), ['going', 'to', 'have', 'to', 'wrap', 'up', 'pretty', 'quickly', 'in', 'the', 'last', 'couple', 'of', 'minutes', 'and', \"I'll\", 'just', 'tell', 'you', 'nothing', 'else', 'okay', 'so', 'anything', 'else', 'anybody', 'wants', 'but', 'what', 'they', \"don't\", 'like', 'about', 'remote', 'controllers', 'use', 'what', 'they', 'would', 'really', 'like', 'to', 'be', 'part', 'of', 'this', 'new', 'one', 'until']], [3, datetime.timedelta(seconds=902, microseconds=400000), datetime.timedelta(seconds=904, microseconds=800000), []], [4, datetime.timedelta(seconds=904, microseconds=800000), datetime.timedelta(seconds=905, microseconds=900000), ['losing', 'them', 'okay']], [3, datetime.timedelta(seconds=905, microseconds=900000), datetime.timedelta(seconds=906, microseconds=900000), ['them']], [4, datetime.timedelta(seconds=906, microseconds=900000), datetime.timedelta(seconds=922, microseconds=100000), ['you', 'like', 'wisler', 'make', 'really', 'high', 'pitched', 'noise', 'they', 'beat', 'I', 'mean', 'is', 'that', 'something', \"you'd\", 'want', 'him', 'to', 'do', 'you']], [1, datetime.timedelta(seconds=922, microseconds=100000), datetime.timedelta(seconds=927), ['I', \"can't\"]], [3, datetime.timedelta(seconds=927), datetime.timedelta(seconds=950), ['when', 'the', 'first', 'remote', 'control', 'my', 'my', 'family', 'had', 'was', 'on', 'a', 'cable', 'actuator', 'cable', 'between', 'in', 'the', 'TV', 'and', 'big', 'like', 'button', 'that', 'serves', 'like', 'like', 'on', 'a', 'blender', 'or', 'something', 'you', 'know', 'what', 'I', 'think', 'about', 'what', 'they', 'are', 'now', \"it's\", 'better', 'but', 'actually', \"it's\", 'still', 'kind', 'of', 'I', \"don't\", 'know', 'like', 'a', 'massive', 'junkie', 'thing', 'on', 'the', 'table', 'maybe', 'we', 'could', 'think', 'about', 'how', 'to', 'be', 'more', 'you', 'know']], [1, datetime.timedelta(seconds=950), datetime.timedelta(seconds=952, microseconds=700000), ['touch', 'screen', 'or', 'something']], [3, datetime.timedelta(seconds=952, microseconds=700000), datetime.timedelta(seconds=955, microseconds=800000), ['like', 'that', 'or', 'whatever', 'be', 'technologically']], [1, datetime.timedelta(seconds=955, microseconds=800000), datetime.timedelta(seconds=956, microseconds=400000), []], [4, datetime.timedelta(seconds=956, microseconds=400000), datetime.timedelta(seconds=972, microseconds=900000), ['that', \"doesn't\", 'make', 'it', 'any', 'better', 'but', 'that', 'just', 'the', 'appeal', 'of', 'action', 'of', 'not', 'having', 'you', 'know', 'these', 'days', 'is', 'a', 'few', 'things', 'in', \"people's\", 'homes', 'are', 'becoming', 'more', 'and', 'more', 'like', 'Chic', 'you', 'know', 'nicer', 'materials', 'and', 'K', 'might', 'be']], [3, datetime.timedelta(seconds=975), datetime.timedelta(seconds=976, microseconds=600000), [\"you're\", 'worth', 'exploring', 'the']], [4, datetime.timedelta(seconds=976, microseconds=600000), datetime.timedelta(seconds=1008, microseconds=100000), ['well', 'service', 'to', 'Rafa', 'the', 'next', 'meeting', 'is', 'going', 'to', 'be', 'in', '30', 'minutes', 'so', \"that's\", 'why', \"it's\", 'about', 'time', 'to', '12', 'by', 'my', 'watch', 'so', 'in', 'between', 'now', 'and', 'then', 'as', 'industrial', 'designer', \"you're\", 'going', 'to', 'be', 'working', 'on', 'you', 'need', 'that', 'to', 'working', 'design', 'of', 'it', 'so', 'you', 'know', 'what', \"you're\", 'doing', 'there', 'for', 'our', 'user', 'interface', 'technical', 'functions', 'I', 'guess', \"that's\", 'you', 'know', 'like', 'what', \"we've\", 'been', 'talking', 'about', 'what', \"I'll\", 'actually', 'day', 'and', 'and', 'marketing']], [3, datetime.timedelta(seconds=1008, microseconds=100000), datetime.timedelta(seconds=1011, microseconds=500000), [\"you'll\", 'be', 'thinking']], [4, datetime.timedelta(seconds=1011, microseconds=500000), datetime.timedelta(seconds=1019, microseconds=200000), ['what', 'it', 'actually', 'what', 'you', 'know', 'what', 'requirements', 'it', 'has', 'to', 'has', 'to', 'fulfill', 'and', \"you'll\", 'get', 'instructions', 'email', 'to', 'you', 'I', 'guess']], [3, datetime.timedelta(seconds=1025, microseconds=900000), datetime.timedelta(seconds=1026, microseconds=300000), []], [4, datetime.timedelta(seconds=1027, microseconds=800000), datetime.timedelta(seconds=1031, microseconds=400000), ['it', 'said', 'the', 'functional', 'design', 'stitches', 'next', 'I', 'guess']], [3, datetime.timedelta(seconds=1034, microseconds=200000), datetime.timedelta(seconds=1037, microseconds=200000), ['and', \"that's\", 'the', 'end', 'is']], [1, datetime.timedelta(seconds=1037, microseconds=200000), datetime.timedelta(seconds=1042, microseconds=500000), ['message', 'I', 'looks', 'cleaner', 'than', 'I', 'thought', 'I', 'would', 'too']], [4, datetime.timedelta(seconds=1046, microseconds=900000), datetime.timedelta(seconds=1055, microseconds=300000), ['we', 'wrap', 'up', 'just', 'to', 'make', 'sure', \"we're\", 'on', 'the', 'same', 'page', 'here', 'do', 'we', 'give', 'instead', 'of', 'an', 'example', 'of', 'a', 'coffee']], [1, datetime.timedelta(seconds=1055, microseconds=300000), datetime.timedelta(seconds=1057, microseconds=400000), ['or', 'so', 'well']], [3, datetime.timedelta(seconds=1060, microseconds=800000), datetime.timedelta(seconds=1072, microseconds=800000), ['we', 'at', 'right', 'now', 'in', 'the', 'assumption', 'that', 'our', 'television', 'remote', 'control', 'may', 'have', 'features', 'which', 'go', 'beyond', 'the', 'television', 'or', 'are', 'we', 'keeping', 'sort', 'of', 'like', 'a', 'design', 'commitment', 'to', 'television']], [4, datetime.timedelta(seconds=1072, microseconds=800000), datetime.timedelta(seconds=1082, microseconds=100000), ['okay', 'well', 'just', 'very', 'quickly', 'cuz', \"we're\", 'supposed', 'to', 'finish', 'my', 'I', 'guess', \"that's\", 'up', 'to', 'us', 'I', 'mean', 'you', 'probably', 'want', 'some', 'kind', 'of', 'unique', 'selling', 'point', 'of', 'it', 'so']], [3, datetime.timedelta(seconds=1082, microseconds=100000), datetime.timedelta(seconds=1133, microseconds=300000), ['know', 'production', 'cost', 'okay', 'yeah', 'yeah', 'I', 'mean', 'thank', 'you', 'all', 'for', 'coming', 'going', 'to', 'hit', 'that', 'with', 'what', 'they', 'want', 'for', 'this', 'day', 'rice', 'crepe', 'how', 'do', 'you', 'turn', 'this', 'thing', 'off', 'function', 'and', 'other', 'girl', 'I']], [4, datetime.timedelta(seconds=1133, microseconds=300000), datetime.timedelta(seconds=1136, microseconds=100000), ['if', 'you', 'can', 'just', 'leave', 'it', 'alone', 'maybe', 'and', 'then']]]\n"
     ]
    }
   ],
   "source": [
    "print(analysis_data)"
   ]
  },
  {
   "cell_type": "code",
   "execution_count": 29,
   "metadata": {},
   "outputs": [
    {
     "ename": "TypeError",
     "evalue": "'LongRunningRecognizeResponse' object is not subscriptable",
     "output_type": "error",
     "traceback": [
      "\u001b[0;31m---------------------------------------------------------------------------\u001b[0m",
      "\u001b[0;31mTypeError\u001b[0m                                 Traceback (most recent call last)",
      "\u001b[0;32m<ipython-input-29-37c7d48f9f34>\u001b[0m in \u001b[0;36m<module>\u001b[0;34m\u001b[0m\n\u001b[0;32m----> 1\u001b[0;31m \u001b[0mresponse\u001b[0m\u001b[0;34m.\u001b[0m\u001b[0mresult\u001b[0m\u001b[0;34m(\u001b[0m\u001b[0;34m)\u001b[0m\u001b[0;34m[\u001b[0m\u001b[0;34m-\u001b[0m\u001b[0;36m1\u001b[0m\u001b[0;34m]\u001b[0m\u001b[0;34m\u001b[0m\u001b[0;34m\u001b[0m\u001b[0m\n\u001b[0m",
      "\u001b[0;31mTypeError\u001b[0m: 'LongRunningRecognizeResponse' object is not subscriptable"
     ]
    }
   ],
   "source": [
    "response.result()"
   ]
  },
  {
   "cell_type": "code",
   "execution_count": 14,
   "metadata": {},
   "outputs": [
    {
     "ename": "NameError",
     "evalue": "name 'analysis_data' is not defined",
     "output_type": "error",
     "traceback": [
      "\u001b[0;31m---------------------------------------------------------------------------\u001b[0m",
      "\u001b[0;31mNameError\u001b[0m                                 Traceback (most recent call last)",
      "\u001b[0;32m<ipython-input-14-cb59e0d73946>\u001b[0m in \u001b[0;36m<module>\u001b[0;34m\u001b[0m\n\u001b[0;32m----> 1\u001b[0;31m \u001b[0mspeaker_change_times\u001b[0m \u001b[0;34m=\u001b[0m \u001b[0;34m[\u001b[0m\u001b[0mx\u001b[0m\u001b[0;34m[\u001b[0m\u001b[0;36m1\u001b[0m\u001b[0;34m]\u001b[0m\u001b[0;34m.\u001b[0m\u001b[0mseconds\u001b[0m \u001b[0;34m*\u001b[0m \u001b[0;36m1000\u001b[0m \u001b[0;34m+\u001b[0m \u001b[0mx\u001b[0m\u001b[0;34m[\u001b[0m\u001b[0;36m1\u001b[0m\u001b[0;34m]\u001b[0m\u001b[0;34m.\u001b[0m\u001b[0mmicroseconds\u001b[0m  \u001b[0;34m/\u001b[0m \u001b[0;36m1000\u001b[0m \u001b[0;32mfor\u001b[0m \u001b[0mx\u001b[0m \u001b[0;32min\u001b[0m \u001b[0manalysis_data\u001b[0m\u001b[0;34m[\u001b[0m\u001b[0;36m1\u001b[0m\u001b[0;34m:\u001b[0m\u001b[0;34m]\u001b[0m\u001b[0;34m]\u001b[0m\u001b[0;34m\u001b[0m\u001b[0;34m\u001b[0m\u001b[0m\n\u001b[0m",
      "\u001b[0;31mNameError\u001b[0m: name 'analysis_data' is not defined"
     ]
    }
   ],
   "source": [
    "speaker_change_times = [x[1].seconds * 1000 + x[1].microseconds  / 1000 for x in analysis_data[1:]]"
   ]
  },
  {
   "cell_type": "code",
   "execution_count": 4,
   "metadata": {},
   "outputs": [],
   "source": [
    "storage_client = storage.Client()\n",
    "bucket = storage_client.get_bucket(\"ami_corpus\")\n",
    "blob = bucket.blob(\"amicorpus/ES2002a/audio/ES2002a.Mix-Headset.wav\")\n",
    "blob.download_to_filename(\"/tmp/headset.wav\")\n",
    "\n",
    "#Convert downloaded object and save the export to a tmp file\n",
    "sound = AudioSegment.from_wav(\"/tmp/headset.wav\")\n"
   ]
  },
  {
   "cell_type": "code",
   "execution_count": 24,
   "metadata": {},
   "outputs": [],
   "source": [
    "sound = AudioSegment.from_wav(\"interruptions1.wav\")"
   ]
  },
  {
   "cell_type": "code",
   "execution_count": 12,
   "metadata": {},
   "outputs": [
    {
     "data": {
      "text/plain": [
       "<_io.BufferedRandom name='newSong.wav'>"
      ]
     },
     "execution_count": 12,
     "metadata": {},
     "output_type": "execute_result"
    }
   ],
   "source": [
    "sound[1000:2000].export('newSong.wav', format=\"wav\")"
   ]
  },
  {
   "cell_type": "code",
   "execution_count": 25,
   "metadata": {},
   "outputs": [],
   "source": [
    "for time in range(1000, 55000, 1000): #speaker_change_times:\n",
    "    audio_chunk=sound[time-500:time+500]\n",
    "    audio_chunk.export( \"audio_chunk_{}.wav\".format(time/1000), format=\"wav\")\n"
   ]
  },
  {
   "cell_type": "code",
   "execution_count": 5,
   "metadata": {},
   "outputs": [
    {
     "data": {
      "text/plain": [
       "1272.64"
      ]
     },
     "execution_count": 5,
     "metadata": {},
     "output_type": "execute_result"
    }
   ],
   "source": [
    "sound.duration_seconds"
   ]
  },
  {
   "cell_type": "code",
   "execution_count": 12,
   "metadata": {},
   "outputs": [],
   "source": [
    "\n",
    "\n",
    "split_centers = get_split_centers(sound.duration_seconds)"
   ]
  },
  {
   "cell_type": "code",
   "execution_count": 13,
   "metadata": {},
   "outputs": [
    {
     "data": {
      "text/plain": [
       "255"
      ]
     },
     "execution_count": 13,
     "metadata": {},
     "output_type": "execute_result"
    }
   ],
   "source": [
    "len(split_centers)"
   ]
  },
  {
   "cell_type": "code",
   "execution_count": 5,
   "metadata": {},
   "outputs": [],
   "source": [
    "import jxmlease"
   ]
  },
  {
   "cell_type": "code",
   "execution_count": 34,
   "metadata": {},
   "outputs": [],
   "source": [
    "xml_files = ['ES2002a.A.words.xml', 'ES2002a.B.words.xml', 'ES2002a.C.words.xml', 'ES2002a.D.words.xml']"
   ]
  },
  {
   "cell_type": "markdown",
   "metadata": {},
   "source": [
    "# THIS SHIT IS IMPORTANT "
   ]
  },
  {
   "cell_type": "code",
   "execution_count": 65,
   "metadata": {},
   "outputs": [],
   "source": [
    "def get_speaker_change_times(xml_files):\n",
    "    speaker_change_times = []\n",
    "    \n",
    "    for xml_file in xml_files:\n",
    "        with open(xml_file) as topic:\n",
    "            topic_content = topic.read()\n",
    "\n",
    "        root = jxmlease.parse(topic_content)\n",
    "        words = root['nite:root']['w']\n",
    "\n",
    "        for i in range(1, len(words)):\n",
    "            if(words[i-1].get_xml_attr('endtime') != words[i].get_xml_attr('starttime')):\n",
    "                speaker_change_times.append(words[i].get_xml_attr('starttime'))\n",
    "    \n",
    "    speaker_change_times = set(speaker_change_times)\n",
    "        \n",
    "    return [int(float(x)*1000) for x in speaker_change_times]\n",
    "        \n",
    "            "
   ]
  },
  {
   "cell_type": "code",
   "execution_count": 66,
   "metadata": {},
   "outputs": [],
   "source": [
    "speaker_change_times = get_speaker_change_times(xml_files)\n",
    "get_sound_chunks([\"/tmp/headset.wav\"], speaker_change_times)"
   ]
  },
  {
   "cell_type": "code",
   "execution_count": null,
   "metadata": {},
   "outputs": [],
   "source": []
  }
 ],
 "metadata": {
  "kernelspec": {
   "display_name": "Python 3",
   "language": "python",
   "name": "python3"
  },
  "language_info": {
   "codemirror_mode": {
    "name": "ipython",
    "version": 3
   },
   "file_extension": ".py",
   "mimetype": "text/x-python",
   "name": "python",
   "nbconvert_exporter": "python",
   "pygments_lexer": "ipython3",
   "version": "3.8.3"
  }
 },
 "nbformat": 4,
 "nbformat_minor": 4
}
